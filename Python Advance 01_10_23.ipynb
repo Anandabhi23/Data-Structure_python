{
 "cells": [
  {
   "cell_type": "code",
   "execution_count": 1,
   "id": "cb3923f0",
   "metadata": {},
   "outputs": [
    {
     "name": "stdout",
     "output_type": "stream",
     "text": [
      "4\n"
     ]
    }
   ],
   "source": [
    "#Bitwise operator\n",
    "# we can apply bitwise operator only in int an boolean values\n",
    "## & and |\n",
    "print(4 & 5)"
   ]
  },
  {
   "cell_type": "code",
   "execution_count": 2,
   "id": "5d8b8494",
   "metadata": {},
   "outputs": [
    {
     "name": "stdout",
     "output_type": "stream",
     "text": [
      "0\n"
     ]
    }
   ],
   "source": [
    "# if both bits are 1 then only the result is 1 otherwise result is 0\n",
    "# |  if atleast one bits are 1 then only the result is 1 otherwise result is 0\n",
    "print(1 & 0)"
   ]
  },
  {
   "cell_type": "code",
   "execution_count": 3,
   "id": "5b519f17",
   "metadata": {},
   "outputs": [
    {
     "name": "stdout",
     "output_type": "stream",
     "text": [
      "1\n"
     ]
    }
   ],
   "source": [
    "print(1 | 0)  # OR"
   ]
  },
  {
   "cell_type": "code",
   "execution_count": 4,
   "id": "149bc951",
   "metadata": {},
   "outputs": [
    {
     "name": "stdout",
     "output_type": "stream",
     "text": [
      "12\n"
     ]
    }
   ],
   "source": [
    "# Assignment operator\n",
    "x = 10\n",
    "x =x+2\n",
    "print(x)"
   ]
  },
  {
   "cell_type": "code",
   "execution_count": 6,
   "id": "86963a5b",
   "metadata": {},
   "outputs": [
    {
     "name": "stdout",
     "output_type": "stream",
     "text": [
      "20\n"
     ]
    }
   ],
   "source": [
    "x= 15\n",
    "x+=5\n",
    "print(x)"
   ]
  },
  {
   "cell_type": "code",
   "execution_count": 7,
   "id": "b0d4e664",
   "metadata": {},
   "outputs": [],
   "source": [
    " ## +=, -=, *=,/=, %=, //=, &=, |="
   ]
  },
  {
   "cell_type": "code",
   "execution_count": 8,
   "id": "ee1b40e9",
   "metadata": {},
   "outputs": [],
   "source": [
    "## Ternary Operators\n",
    " # x= firstvalue if condition else secondvalue -- syntax"
   ]
  },
  {
   "cell_type": "code",
   "execution_count": 9,
   "id": "b1719a13",
   "metadata": {},
   "outputs": [
    {
     "name": "stdout",
     "output_type": "stream",
     "text": [
      "30\n"
     ]
    }
   ],
   "source": [
    "a= 10\n",
    "b= 20\n",
    "x =30 if a<b else 40\n",
    "print(x)"
   ]
  },
  {
   "cell_type": "code",
   "execution_count": 10,
   "id": "cba54d92",
   "metadata": {},
   "outputs": [
    {
     "name": "stdout",
     "output_type": "stream",
     "text": [
      "40\n"
     ]
    }
   ],
   "source": [
    "a= 100\n",
    "b= 20\n",
    "x =30 if a<b else 40\n",
    "print(x)"
   ]
  },
  {
   "cell_type": "code",
   "execution_count": 11,
   "id": "d4aba7af",
   "metadata": {},
   "outputs": [],
   "source": [
    "# wriite a pgm taking two numbers from the user and print the min of two"
   ]
  },
  {
   "cell_type": "code",
   "execution_count": 12,
   "id": "3826f3d8",
   "metadata": {},
   "outputs": [
    {
     "name": "stdout",
     "output_type": "stream",
     "text": [
      "enter 1st number 10\n",
      "enter 2nd number 20\n",
      " min value is --  40\n"
     ]
    }
   ],
   "source": [
    "X = int(input(\"enter 1st number \"))\n",
    "Y = int(input(\"enter 2nd number \"))\n",
    "z = x if X<Y else Y\n",
    "print(\" min value is -- \", z)"
   ]
  },
  {
   "cell_type": "code",
   "execution_count": 13,
   "id": "e46de5d0",
   "metadata": {},
   "outputs": [],
   "source": [
    "# conditional stmt - if ,ifelse \n",
    "#Transfer statement - break, continue ,pass\n",
    "# Iterative stmt  - for, while"
   ]
  },
  {
   "cell_type": "code",
   "execution_count": 16,
   "id": "f0c684b7",
   "metadata": {},
   "outputs": [
    {
     "name": "stdout",
     "output_type": "stream",
     "text": [
      "condition is true\n",
      "condition is not true\n"
     ]
    }
   ],
   "source": [
    "if True:\n",
    "    print(\"condition is true\")\n",
    "print(\"condition is not true\")"
   ]
  },
  {
   "cell_type": "code",
   "execution_count": 18,
   "id": "e0ad0e34",
   "metadata": {},
   "outputs": [
    {
     "name": "stdout",
     "output_type": "stream",
     "text": [
      "condition is true\n"
     ]
    }
   ],
   "source": [
    "if True:\n",
    "    print(\"condition is true\")\n",
    "else:    \n",
    "    print(\"condition is not true\")"
   ]
  },
  {
   "cell_type": "code",
   "execution_count": 19,
   "id": "3f4af321",
   "metadata": {},
   "outputs": [
    {
     "name": "stdout",
     "output_type": "stream",
     "text": [
      "10\n"
     ]
    }
   ],
   "source": [
    "a =10\n",
    "if a<15:\n",
    "    print(a)\n",
    "else:\n",
    "    print(\" the value is greater than 15\")\n"
   ]
  },
  {
   "cell_type": "code",
   "execution_count": 20,
   "id": "92a24ef6",
   "metadata": {},
   "outputs": [
    {
     "name": "stdout",
     "output_type": "stream",
     "text": [
      "enter your brand name --C\n",
      "it is customer  brand\n"
     ]
    }
   ],
   "source": [
    "brand = input(\"enter your brand name --\")\n",
    "if brand == 'A':\n",
    "    print(\"it is children brand\")\n",
    "elif brand == 'B':\n",
    "     print(\"it is boys brand\")\n",
    "elif brand == 'C':      \n",
    "    print(\"it is customer  brand\")\n",
    "else:\n",
    "    print(\"it is other brand\")"
   ]
  },
  {
   "cell_type": "code",
   "execution_count": 24,
   "id": "82d405fa",
   "metadata": {},
   "outputs": [
    {
     "name": "stdout",
     "output_type": "stream",
     "text": [
      "A\n",
      "b\n",
      "h\n",
      "i\n",
      "s\n",
      "h\n",
      "e\n",
      "k\n",
      " \n",
      "A\n",
      "n\n",
      "a\n",
      "n\n",
      "d\n"
     ]
    }
   ],
   "source": [
    "# Iterative statement\n",
    "#1. for loop -  if you want to create some action for every element present in some sequence \n",
    "# for any var in sequence :\n",
    " # expression\n",
    "s= \"Abhishek Anand\"\n",
    "for x in s:\n",
    "    print(x)\n"
   ]
  },
  {
   "cell_type": "code",
   "execution_count": 28,
   "id": "bda78301",
   "metadata": {},
   "outputs": [
    {
     "name": "stdout",
     "output_type": "stream",
     "text": [
      "L-  0 S\n",
      "L-  0 o\n",
      "L-  0 n\n",
      "L-  0 a\n",
      "L-  0 l\n",
      "L-  0 i\n",
      "L-  0  \n",
      "L-  0 S\n",
      "L-  0 i\n",
      "L-  0 n\n",
      "L-  0 h\n",
      "L-  0 a\n"
     ]
    }
   ],
   "source": [
    "i =0\n",
    "s= \"Sonali Sinha\"\n",
    "for x in s:\n",
    "    print(\"L- \",i, x)\n"
   ]
  },
  {
   "cell_type": "code",
   "execution_count": 29,
   "id": "e4a5b43d",
   "metadata": {},
   "outputs": [
    {
     "name": "stdout",
     "output_type": "stream",
     "text": [
      "L-  0 S\n",
      "L-  1 o\n",
      "L-  2 n\n",
      "L-  3 a\n",
      "L-  4 l\n",
      "L-  5 i\n",
      "L-  6  \n",
      "L-  7 S\n",
      "L-  8 i\n",
      "L-  9 n\n",
      "L-  10 h\n",
      "L-  11 a\n"
     ]
    }
   ],
   "source": [
    "i =0\n",
    "s= \"Sonali Sinha\"\n",
    "for x in s:\n",
    "    print(\"L- \",i, x)\n",
    "    i =i+1"
   ]
  },
  {
   "cell_type": "code",
   "execution_count": 30,
   "id": "38e60af0",
   "metadata": {},
   "outputs": [
    {
     "data": {
      "text/plain": [
       "['Apple', 'mango', 'grapes', 'orange', ' Pineapple', ' blueberry']"
      ]
     },
     "execution_count": 30,
     "metadata": {},
     "output_type": "execute_result"
    }
   ],
   "source": [
    "fruits = [\"Apple\", \"mango\" , \"grapes\", \"orange\" , \" Pineapple\", \" blueberry\"]\n",
    "fruits"
   ]
  },
  {
   "cell_type": "code",
   "execution_count": 31,
   "id": "4565ca7d",
   "metadata": {},
   "outputs": [
    {
     "name": "stdout",
     "output_type": "stream",
     "text": [
      "fruits  100 Apple\n",
      "fruits  101 mango\n",
      "fruits  102 grapes\n",
      "fruits  103 orange\n",
      "fruits  104  Pineapple\n",
      "fruits  105  blueberry\n"
     ]
    }
   ],
   "source": [
    "i =100\n",
    "#s= \"Sonali Sinha\"\n",
    "for x in fruits:\n",
    "    print(\"fruits \",i, x)\n",
    "    i =i+1"
   ]
  },
  {
   "cell_type": "code",
   "execution_count": 35,
   "id": "27d7d3a0",
   "metadata": {},
   "outputs": [
    {
     "name": "stdout",
     "output_type": "stream",
     "text": [
      "1\n",
      "3\n",
      "5\n",
      "7\n",
      "9\n",
      "11\n",
      "13\n",
      "15\n",
      "17\n",
      "19\n",
      "21\n",
      "23\n",
      "25\n",
      "27\n",
      "29\n"
     ]
    }
   ],
   "source": [
    "#wap to diaplay all odd number from 0 t0 30\n",
    "for x in range(31):\n",
    " if(x%2!=0):\n",
    "    print(x)\n"
   ]
  },
  {
   "cell_type": "code",
   "execution_count": 39,
   "id": "cb42eb62",
   "metadata": {},
   "outputs": [
    {
     "name": "stdout",
     "output_type": "stream",
     "text": [
      "0\n",
      "1\n",
      "2\n",
      "3\n"
     ]
    }
   ],
   "source": [
    "for i in range(0,4): # [0,1,2,3]\n",
    "    print(i)\n",
    "    "
   ]
  },
  {
   "cell_type": "code",
   "execution_count": 42,
   "id": "57e63abc",
   "metadata": {},
   "outputs": [
    {
     "name": "stdout",
     "output_type": "stream",
     "text": [
      "0\n",
      "0 0\n",
      "0 1\n",
      "0 2\n",
      "0 3\n",
      "1\n",
      "1 0\n",
      "1 1\n",
      "1 2\n",
      "1 3\n",
      "2\n",
      "2 0\n",
      "2 1\n",
      "2 2\n",
      "2 3\n",
      "3\n",
      "3 0\n",
      "3 1\n",
      "3 2\n",
      "3 3\n"
     ]
    }
   ],
   "source": [
    "for i in range(0,4): # [0,1,2,3]\n",
    "    print(i)\n",
    "    for j in range(4):\n",
    "        print(i,j)"
   ]
  },
  {
   "cell_type": "code",
   "execution_count": null,
   "id": "b7364623",
   "metadata": {},
   "outputs": [],
   "source": [
    "# while loop\n",
    "#if u want to execute group of stmt iteratively until some condition is false \n",
    "# while condition:\n",
    "# expression\n"
   ]
  },
  {
   "cell_type": "code",
   "execution_count": 43,
   "id": "b4afeabc",
   "metadata": {},
   "outputs": [
    {
     "name": "stdout",
     "output_type": "stream",
     "text": [
      "condition exist\n",
      "condition exist\n",
      "condition exist\n",
      "condition exist\n",
      "condition exist\n",
      "condition exist\n",
      "condition exist\n",
      "condition exist\n",
      "condition exist\n"
     ]
    }
   ],
   "source": [
    "x = 1\n",
    "while x<10:\n",
    "    print(\"condition exist\")\n",
    "    x = x+1"
   ]
  },
  {
   "cell_type": "code",
   "execution_count": 44,
   "id": "0ca4312b",
   "metadata": {},
   "outputs": [
    {
     "name": "stdout",
     "output_type": "stream",
     "text": [
      "1\n",
      "2\n",
      "3\n",
      "4\n",
      "5\n",
      "6\n",
      "7\n",
      "8\n",
      "9\n"
     ]
    }
   ],
   "source": [
    "x = 1\n",
    "while x<10:\n",
    "    print(x)\n",
    "    x = x+1"
   ]
  },
  {
   "cell_type": "code",
   "execution_count": 48,
   "id": "fe3f26ae",
   "metadata": {},
   "outputs": [
    {
     "name": "stdout",
     "output_type": "stream",
     "text": [
      "0\n",
      "1\n",
      "2\n",
      "3\n",
      "4\n",
      "5\n",
      "6\n",
      "7\n",
      "8\n",
      "9\n"
     ]
    }
   ],
   "source": [
    "# Transfer stament\n",
    "# 1. break\n",
    "for i in range(10):\n",
    "      \n",
    "    print(i)\n",
    "    "
   ]
  },
  {
   "cell_type": "code",
   "execution_count": 50,
   "id": "349352b1",
   "metadata": {},
   "outputs": [
    {
     "ename": "IndentationError",
     "evalue": "expected an indented block after 'for' statement on line 1 (3519027552.py, line 2)",
     "output_type": "error",
     "traceback": [
      "\u001b[1;36m  Cell \u001b[1;32mIn[50], line 2\u001b[1;36m\u001b[0m\n\u001b[1;33m    if i ==6:\u001b[0m\n\u001b[1;37m    ^\u001b[0m\n\u001b[1;31mIndentationError\u001b[0m\u001b[1;31m:\u001b[0m expected an indented block after 'for' statement on line 1\n"
     ]
    }
   ],
   "source": [
    "for i in range(10):\n",
    "if i ==6:\n",
    "    print(\"till 6\")\n",
    "    break\n",
    "    print(i)"
   ]
  },
  {
   "cell_type": "code",
   "execution_count": 54,
   "id": "a245dc8a",
   "metadata": {},
   "outputs": [
    {
     "name": "stdout",
     "output_type": "stream",
     "text": [
      "we cant process 500\n"
     ]
    }
   ],
   "source": [
    "# Continue\n",
    "cart = [10,230, 50, 500,60]\n",
    "for item in cart:\n",
    "    if item >=400:\n",
    "        print(\"we cant process\", item)\n",
    "        continue\n",
    "        print(item)"
   ]
  },
  {
   "cell_type": "code",
   "execution_count": 1,
   "id": "ec5947f6",
   "metadata": {},
   "outputs": [],
   "source": [
    "#pass in empty statement, null stmt , wont do anything\n",
    "if True:\n",
    "    pass"
   ]
  },
  {
   "cell_type": "code",
   "execution_count": null,
   "id": "3dd7b8c7",
   "metadata": {},
   "outputs": [],
   "source": []
  }
 ],
 "metadata": {
  "kernelspec": {
   "display_name": "Python 3 (ipykernel)",
   "language": "python",
   "name": "python3"
  },
  "language_info": {
   "codemirror_mode": {
    "name": "ipython",
    "version": 3
   },
   "file_extension": ".py",
   "mimetype": "text/x-python",
   "name": "python",
   "nbconvert_exporter": "python",
   "pygments_lexer": "ipython3",
   "version": "3.11.4"
  }
 },
 "nbformat": 4,
 "nbformat_minor": 5
}
