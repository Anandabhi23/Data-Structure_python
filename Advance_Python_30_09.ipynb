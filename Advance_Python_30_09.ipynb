{
 "cells": [
  {
   "cell_type": "code",
   "execution_count": 1,
   "id": "6035a1bd",
   "metadata": {},
   "outputs": [
    {
     "name": "stdout",
     "output_type": "stream",
     "text": [
      "{}\n",
      "<class 'dict'>\n"
     ]
    }
   ],
   "source": [
    "#Set\n",
    "s= {}\n",
    "print(s)\n",
    "print(type(s))"
   ]
  },
  {
   "cell_type": "code",
   "execution_count": 2,
   "id": "08727c75",
   "metadata": {},
   "outputs": [
    {
     "name": "stdout",
     "output_type": "stream",
     "text": [
      "{1, 2, 3, 4}\n",
      "<class 'set'>\n"
     ]
    }
   ],
   "source": [
    "s= {1,2,3,4}\n",
    "print(s)\n",
    "print(type(s))"
   ]
  },
  {
   "cell_type": "code",
   "execution_count": 8,
   "id": "3acb8984",
   "metadata": {},
   "outputs": [
    {
     "name": "stdout",
     "output_type": "stream",
     "text": [
      "[50, 60, 70]\n",
      "<class 'list'>\n"
     ]
    }
   ],
   "source": [
    "s =([50,60,70])\n",
    "print(s)\n",
    "print(type(s))"
   ]
  },
  {
   "cell_type": "code",
   "execution_count": 7,
   "id": "561cd9b5",
   "metadata": {},
   "outputs": [
    {
     "data": {
      "text/plain": [
       "50"
      ]
     },
     "execution_count": 7,
     "metadata": {},
     "output_type": "execute_result"
    }
   ],
   "source": [
    "s[0]"
   ]
  },
  {
   "cell_type": "code",
   "execution_count": 9,
   "id": "bf998203",
   "metadata": {},
   "outputs": [
    {
     "name": "stdout",
     "output_type": "stream",
     "text": [
      "(20, 30, 40)\n",
      "<class 'tuple'>\n"
     ]
    }
   ],
   "source": [
    "z = (20,30,40)\n",
    "print(z)\n",
    "print(type(z))"
   ]
  },
  {
   "cell_type": "code",
   "execution_count": 10,
   "id": "56a07e3b",
   "metadata": {},
   "outputs": [
    {
     "name": "stdout",
     "output_type": "stream",
     "text": [
      "(1, 3, 5, 'hello')\n"
     ]
    }
   ],
   "source": [
    "tuple3 = tuple((1, 3, 5, \"hello\"))\n",
    "print(tuple3)"
   ]
  },
  {
   "cell_type": "code",
   "execution_count": 11,
   "id": "2629d684",
   "metadata": {},
   "outputs": [
    {
     "name": "stdout",
     "output_type": "stream",
     "text": [
      "{1, 2, 3, 6, 'abc'}\n"
     ]
    }
   ],
   "source": [
    "set1 = {1, 2, 3, 'abc', 6}\n",
    "print(set1)"
   ]
  },
  {
   "cell_type": "code",
   "execution_count": 13,
   "id": "01ee78a9",
   "metadata": {},
   "outputs": [
    {
     "name": "stdout",
     "output_type": "stream",
     "text": [
      "[20, 30, 40]\n",
      "<class 'list'>\n"
     ]
    }
   ],
   "source": [
    "l = [20,30,40]\n",
    "print(l)\n",
    "print(type(l))"
   ]
  },
  {
   "cell_type": "code",
   "execution_count": 14,
   "id": "c7951a55",
   "metadata": {},
   "outputs": [
    {
     "name": "stdout",
     "output_type": "stream",
     "text": [
      "(20, 30, 40)\n"
     ]
    }
   ],
   "source": [
    "t = tuple(l)\n",
    "print(t)"
   ]
  },
  {
   "cell_type": "code",
   "execution_count": 17,
   "id": "0c382bb7",
   "metadata": {},
   "outputs": [],
   "source": [
    "#  Important function of set\n",
    "# 1.  add(x)\n",
    "# add item x to set\n",
    "\n"
   ]
  },
  {
   "cell_type": "code",
   "execution_count": 26,
   "id": "f94dcad0",
   "metadata": {},
   "outputs": [
    {
     "name": "stdout",
     "output_type": "stream",
     "text": [
      "{50, 60, 70}\n",
      "<class 'set'>\n"
     ]
    }
   ],
   "source": [
    "s ={50,60,70}\n",
    "print(s)\n",
    "print(type(s))"
   ]
  },
  {
   "cell_type": "code",
   "execution_count": 28,
   "id": "a418f5f9",
   "metadata": {},
   "outputs": [],
   "source": [
    "s.add(\"Rahul\")"
   ]
  },
  {
   "cell_type": "code",
   "execution_count": 29,
   "id": "d521235a",
   "metadata": {},
   "outputs": [
    {
     "name": "stdout",
     "output_type": "stream",
     "text": [
      "{'Rahul', 50, 60, 70}\n"
     ]
    }
   ],
   "source": [
    "print(s)"
   ]
  },
  {
   "cell_type": "code",
   "execution_count": 4,
   "id": "ff5a3fe4",
   "metadata": {},
   "outputs": [],
   "source": [
    "### 2. update (x,y,z)\\n\",\n",
    "    # To add multiple items to the set\\n\",\n",
    "    # It should be either in list or in range\\n\",\n",
    "     \n",
    "        "
   ]
  },
  {
   "cell_type": "code",
   "execution_count": 5,
   "id": "a47455d7",
   "metadata": {},
   "outputs": [
    {
     "name": "stdout",
     "output_type": "stream",
     "text": [
      "{40, 10, 20, 30}\n"
     ]
    }
   ],
   "source": [
    "s1 = {10,20,30,40}\n",
    "print(s1)"
   ]
  },
  {
   "cell_type": "code",
   "execution_count": 6,
   "id": "ac393fc7",
   "metadata": {},
   "outputs": [
    {
     "name": "stdout",
     "output_type": "stream",
     "text": [
      "[90, 80, 70, 60, 50, 40]\n"
     ]
    }
   ],
   "source": [
    "l = [90,80,70,60,50,40]\n",
    "print(l)"
   ]
  },
  {
   "cell_type": "code",
   "execution_count": 7,
   "id": "9e27de2b",
   "metadata": {},
   "outputs": [
    {
     "name": "stdout",
     "output_type": "stream",
     "text": [
      "{70, 40, 10, 80, 50, 20, 90, 60, 30}\n"
     ]
    }
   ],
   "source": [
    "s1.update(l)\n",
    "print(s1)"
   ]
  },
  {
   "cell_type": "code",
   "execution_count": 10,
   "id": "f9a5c522",
   "metadata": {},
   "outputs": [
    {
     "name": "stdout",
     "output_type": "stream",
     "text": [
      "{70, 40, 10, 'sonali', 80, 50, 20, 'rahul', 90, 60, 30}\n"
     ]
    }
   ],
   "source": [
    "s2 = {\"rahul\", \"sonali\"}\n",
    "s1.update(s2)\n",
    "print(s1)"
   ]
  },
  {
   "cell_type": "code",
   "execution_count": 8,
   "id": "2e82c464",
   "metadata": {},
   "outputs": [],
   "source": [
    "# copy()\n",
    "# cloning"
   ]
  },
  {
   "cell_type": "code",
   "execution_count": 9,
   "id": "42c3ca5e",
   "metadata": {},
   "outputs": [
    {
     "name": "stdout",
     "output_type": "stream",
     "text": [
      "{70, 40, 10, 80, 50, 20, 90, 60, 30}\n"
     ]
    }
   ],
   "source": [
    "p =s1.copy()\n",
    "print(p)"
   ]
  },
  {
   "cell_type": "code",
   "execution_count": 11,
   "id": "5f5966ee",
   "metadata": {},
   "outputs": [
    {
     "data": {
      "text/plain": [
       "{10, 20, 30, 40, 50, 60, 80, 90, 'rahul', 'sonali'}"
      ]
     },
     "execution_count": 11,
     "metadata": {},
     "output_type": "execute_result"
    }
   ],
   "source": [
    "# pop()  set does not follow order. It will remove randomly\n",
    "s1.pop()\n",
    "s1"
   ]
  },
  {
   "cell_type": "code",
   "execution_count": 12,
   "id": "e5977503",
   "metadata": {},
   "outputs": [
    {
     "data": {
      "text/plain": [
       "40"
      ]
     },
     "execution_count": 12,
     "metadata": {},
     "output_type": "execute_result"
    }
   ],
   "source": [
    "s1.pop()"
   ]
  },
  {
   "cell_type": "code",
   "execution_count": 13,
   "id": "b5064b2a",
   "metadata": {},
   "outputs": [
    {
     "data": {
      "text/plain": [
       "{10, 20, 30, 50, 60, 80, 90, 'rahul', 'sonali'}"
      ]
     },
     "execution_count": 13,
     "metadata": {},
     "output_type": "execute_result"
    }
   ],
   "source": [
    "s1"
   ]
  },
  {
   "cell_type": "code",
   "execution_count": 19,
   "id": "4683214f",
   "metadata": {},
   "outputs": [
    {
     "name": "stdout",
     "output_type": "stream",
     "text": [
      "{80, 90, 60}\n"
     ]
    },
    {
     "ename": "KeyError",
     "evalue": "100",
     "output_type": "error",
     "traceback": [
      "\u001b[1;31m---------------------------------------------------------------------------\u001b[0m",
      "\u001b[1;31mKeyError\u001b[0m                                  Traceback (most recent call last)",
      "Cell \u001b[1;32mIn[19], line 6\u001b[0m\n\u001b[0;32m      4\u001b[0m s\u001b[38;5;241m.\u001b[39mremove(\u001b[38;5;241m70\u001b[39m)\n\u001b[0;32m      5\u001b[0m \u001b[38;5;28mprint\u001b[39m(s)\n\u001b[1;32m----> 6\u001b[0m s\u001b[38;5;241m.\u001b[39mremove(\u001b[38;5;241m100\u001b[39m)\n",
      "\u001b[1;31mKeyError\u001b[0m: 100"
     ]
    }
   ],
   "source": [
    "# remove() it removes specify element from the set\n",
    "\n",
    "s = {90,80,70,60}\n",
    "s.remove(70)\n",
    "print(s)\n",
    "s.remove(100)"
   ]
  },
  {
   "cell_type": "code",
   "execution_count": 15,
   "id": "dcad9369",
   "metadata": {},
   "outputs": [
    {
     "name": "stdout",
     "output_type": "stream",
     "text": [
      "{9, 2, 4, 6}\n"
     ]
    }
   ],
   "source": [
    "t = {6,4,2,2,9}\n",
    "print(t)"
   ]
  },
  {
   "cell_type": "code",
   "execution_count": 16,
   "id": "191f6837",
   "metadata": {},
   "outputs": [
    {
     "data": {
      "text/plain": [
       "{2, 4}"
      ]
     },
     "execution_count": 16,
     "metadata": {},
     "output_type": "execute_result"
    }
   ],
   "source": [
    "rm = [6,9]\n",
    "r = t -set(rm)\n",
    "r"
   ]
  },
  {
   "cell_type": "code",
   "execution_count": 18,
   "id": "4d0b2fd0",
   "metadata": {},
   "outputs": [
    {
     "name": "stdout",
     "output_type": "stream",
     "text": [
      "{80, 90, 60}\n"
     ]
    }
   ],
   "source": [
    "# discard - it remove specified item\n",
    "\n",
    "s = {90,80,70,60}\n",
    "s.discard(70)\n",
    "print(s)\n",
    "s.discard(100)"
   ]
  },
  {
   "cell_type": "code",
   "execution_count": 20,
   "id": "51843a58",
   "metadata": {},
   "outputs": [
    {
     "name": "stdout",
     "output_type": "stream",
     "text": [
      "{40, 10, 20, 30}\n"
     ]
    }
   ],
   "source": [
    "# clear()  to remove all element\n",
    "s ={10,20,30,40}\n",
    "print(s)"
   ]
  },
  {
   "cell_type": "code",
   "execution_count": 22,
   "id": "266423b2",
   "metadata": {},
   "outputs": [
    {
     "data": {
      "text/plain": [
       "set()"
      ]
     },
     "execution_count": 22,
     "metadata": {},
     "output_type": "execute_result"
    }
   ],
   "source": [
    "s.clear()\n",
    "s"
   ]
  },
  {
   "cell_type": "code",
   "execution_count": 23,
   "id": "b6ba6ded",
   "metadata": {},
   "outputs": [
    {
     "ename": "IndentationError",
     "evalue": "unexpected indent (2049693186.py, line 4)",
     "output_type": "error",
     "traceback": [
      "\u001b[1;36m  Cell \u001b[1;32mIn[23], line 4\u001b[1;36m\u001b[0m\n\u001b[1;33m    x = {10,20,30}\u001b[0m\n\u001b[1;37m    ^\u001b[0m\n\u001b[1;31mIndentationError\u001b[0m\u001b[1;31m:\u001b[0m unexpected indent\n"
     ]
    }
   ],
   "source": [
    "# ##### Mathematical Operations on Set ---\\n\",\n",
    "    ###  1. union() ### x.union(y) or x|y\\n\",\n",
    "    ### we can use this function to return all elements present in both sets\\n\",\n",
    "   "
   ]
  },
  {
   "cell_type": "code",
   "execution_count": 28,
   "id": "54c4f07e",
   "metadata": {},
   "outputs": [
    {
     "name": "stdout",
     "output_type": "stream",
     "text": [
      "{50, 20, 40, 10, 30}\n",
      "{50, 20, 40, 10, 30}\n"
     ]
    }
   ],
   "source": [
    "x = {10,20,30}\n",
    "y = {30,40,50}\n",
    "print(x.union(y))\n",
    "print(x|y)\n",
    "    "
   ]
  },
  {
   "cell_type": "code",
   "execution_count": 31,
   "id": "3d053e0c",
   "metadata": {},
   "outputs": [
    {
     "name": "stdout",
     "output_type": "stream",
     "text": [
      "{50, 20, 40, 'rahul', 10, 30}\n"
     ]
    }
   ],
   "source": [
    "x = {10,20,30}\n",
    "y = {30,40,50,\"rahul\"}\n",
    "z= x.union(y)\n",
    "print(z)"
   ]
  },
  {
   "cell_type": "code",
   "execution_count": 29,
   "id": "481821bb",
   "metadata": {},
   "outputs": [],
   "source": [
    "#### 2. Intersection\\n\",\n",
    "    ### x.intersection(y) or x&y\\n\",\n",
    "    ### RReturns common element present in both x and y\\n\",\n"
   ]
  },
  {
   "cell_type": "code",
   "execution_count": 32,
   "id": "c542285a",
   "metadata": {},
   "outputs": [
    {
     "data": {
      "text/plain": [
       "{30}"
      ]
     },
     "execution_count": 32,
     "metadata": {},
     "output_type": "execute_result"
    }
   ],
   "source": [
    "x.intersection(y)"
   ]
  },
  {
   "cell_type": "code",
   "execution_count": 34,
   "id": "5d68eec1",
   "metadata": {},
   "outputs": [
    {
     "name": "stdout",
     "output_type": "stream",
     "text": [
      "{10, 20}\n",
      "{50, 60}\n"
     ]
    }
   ],
   "source": [
    "#### 3. Difference\\n\",\n",
    "    #### x.differeence(y) or x -y\\n\",\n",
    "    ##### returns the element present in x but not in y\\n\",\n",
    "x = {10,20,30,40}\n",
    "y = {30,40,50,60}\n",
    "print(x.difference(y))\n",
    "print(y.difference(x))"
   ]
  },
  {
   "cell_type": "code",
   "execution_count": 35,
   "id": "7f03bec6",
   "metadata": {},
   "outputs": [
    {
     "name": "stdout",
     "output_type": "stream",
     "text": [
      "{10, 50, 20, 60}\n"
     ]
    }
   ],
   "source": [
    "####4. Symmetric Difference\\n\",\n",
    "#### x.symmetric_difference(y) or x^y\\n\",\n",
    "#### returns element present in either x or y but not in both\\n\",\n",
    "x = {10,20,30,40}\n",
    "y = {30,40,50,60}\n",
    "print(x.symmetric_difference(y))"
   ]
  },
  {
   "cell_type": "code",
   "execution_count": 36,
   "id": "c3e89185",
   "metadata": {},
   "outputs": [
    {
     "name": "stdout",
     "output_type": "stream",
     "text": [
      "{'S', 'l', 'n', 'o', 'i', 'a'}\n"
     ]
    }
   ],
   "source": [
    " #### Membership Operators in Set (in and not in)\\n\",\n",
    "s = set(\"Sonali\")  ##### Another way of Tokenizing of words\\n\",\n",
    "print(s)"
   ]
  },
  {
   "cell_type": "code",
   "execution_count": 37,
   "id": "673be87f",
   "metadata": {},
   "outputs": [
    {
     "name": "stdout",
     "output_type": "stream",
     "text": [
      "True\n"
     ]
    }
   ],
   "source": [
    "print('i' in s)"
   ]
  },
  {
   "cell_type": "code",
   "execution_count": 39,
   "id": "86da3d7c",
   "metadata": {},
   "outputs": [
    {
     "name": "stdout",
     "output_type": "stream",
     "text": [
      "True\n"
     ]
    }
   ],
   "source": [
    "print('k' not in s)"
   ]
  },
  {
   "cell_type": "code",
   "execution_count": 40,
   "id": "fe21ad93",
   "metadata": {},
   "outputs": [],
   "source": [
    "s1.difference_update()"
   ]
  },
  {
   "cell_type": "code",
   "execution_count": null,
   "id": "d7bd0134",
   "metadata": {},
   "outputs": [],
   "source": [
    "##### Dictionary Data Structure\\n\",\n",
    "#### we can use listm tuple, set to represent group mof individual objects \\n\",\n",
    "###if you want to create group of obejcts as key and value pairs then we should go for dict\\n\",\n",
    "# name - \\\"Sonali\\\"\\n\",\n",
    "# age - 27\\n\",\n",
    "#\\n\",\n",
    "#### Dupliate keys are not allowed but values can be duplicated\\n\",\n",
    "#### Hetrogenous objects are allowed for both key and value\\n\",\n",
    "#### Insertion order is not preserved\\n\",\n",
    "#### Dictionaries are Mutable objects\\n\",\n",
    "### Dictionaries are Dynamic\\n\",\n",
    "##### Indexing and slicing are not applicable\""
   ]
  },
  {
   "cell_type": "code",
   "execution_count": 41,
   "id": "ea01178c",
   "metadata": {},
   "outputs": [
    {
     "name": "stdout",
     "output_type": "stream",
     "text": [
      "{}\n",
      "<class 'dict'>\n"
     ]
    }
   ],
   "source": [
    "d = {}\n",
    "print(d)\n",
    "print(type(d))"
   ]
  },
  {
   "cell_type": "code",
   "execution_count": 42,
   "id": "bd3cd316",
   "metadata": {},
   "outputs": [
    {
     "name": "stdout",
     "output_type": "stream",
     "text": [
      "{1: 'rahul', 2: 'Rohan', 3: 'sheetal'}\n"
     ]
    }
   ],
   "source": [
    "d  = {1 : 'rahul', 2: 'Rohan', 3:'sheetal'}\n",
    "print(d)"
   ]
  },
  {
   "cell_type": "code",
   "execution_count": 43,
   "id": "48b37e2c",
   "metadata": {},
   "outputs": [
    {
     "data": {
      "text/plain": [
       "'rahul'"
      ]
     },
     "execution_count": 43,
     "metadata": {},
     "output_type": "execute_result"
    }
   ],
   "source": [
    "d[1]"
   ]
  },
  {
   "cell_type": "code",
   "execution_count": 44,
   "id": "cdd942ad",
   "metadata": {},
   "outputs": [],
   "source": [
    "d[4]= \"Abhishek\""
   ]
  },
  {
   "cell_type": "code",
   "execution_count": 45,
   "id": "35d4c5f0",
   "metadata": {},
   "outputs": [
    {
     "data": {
      "text/plain": [
       "{1: 'rahul', 2: 'Rohan', 3: 'sheetal', 4: 'Abhishek'}"
      ]
     },
     "execution_count": 45,
     "metadata": {},
     "output_type": "execute_result"
    }
   ],
   "source": [
    "d"
   ]
  },
  {
   "cell_type": "code",
   "execution_count": 46,
   "id": "96c39edd",
   "metadata": {},
   "outputs": [
    {
     "ename": "KeyError",
     "evalue": "9",
     "output_type": "error",
     "traceback": [
      "\u001b[1;31m---------------------------------------------------------------------------\u001b[0m",
      "\u001b[1;31mKeyError\u001b[0m                                  Traceback (most recent call last)",
      "Cell \u001b[1;32mIn[46], line 1\u001b[0m\n\u001b[1;32m----> 1\u001b[0m d[\u001b[38;5;241m9\u001b[39m]\n",
      "\u001b[1;31mKeyError\u001b[0m: 9"
     ]
    }
   ],
   "source": [
    "d[9]"
   ]
  },
  {
   "cell_type": "code",
   "execution_count": 47,
   "id": "08e11447",
   "metadata": {},
   "outputs": [],
   "source": [
    "del d[4]"
   ]
  },
  {
   "cell_type": "code",
   "execution_count": 48,
   "id": "b1194d50",
   "metadata": {},
   "outputs": [
    {
     "data": {
      "text/plain": [
       "{1: 'rahul', 2: 'Rohan', 3: 'sheetal'}"
      ]
     },
     "execution_count": 48,
     "metadata": {},
     "output_type": "execute_result"
    }
   ],
   "source": [
    "d"
   ]
  },
  {
   "cell_type": "code",
   "execution_count": 49,
   "id": "2dbc9c18",
   "metadata": {},
   "outputs": [],
   "source": [
    "d[5] = \"Anand\""
   ]
  },
  {
   "cell_type": "code",
   "execution_count": 50,
   "id": "ef60bcf1",
   "metadata": {},
   "outputs": [
    {
     "data": {
      "text/plain": [
       "{1: 'rahul', 2: 'Rohan', 3: 'sheetal', 5: 'Anand'}"
      ]
     },
     "execution_count": 50,
     "metadata": {},
     "output_type": "execute_result"
    }
   ],
   "source": [
    "d"
   ]
  },
  {
   "cell_type": "code",
   "execution_count": 51,
   "id": "38e7f1c2",
   "metadata": {},
   "outputs": [
    {
     "data": {
      "text/plain": [
       "{23: 'ABC', 89: 'DEF'}"
      ]
     },
     "execution_count": 51,
     "metadata": {},
     "output_type": "execute_result"
    }
   ],
   "source": [
    " s = {23 : 'ABC', 89: 'DEF'}\n",
    "s"
   ]
  },
  {
   "cell_type": "code",
   "execution_count": 52,
   "id": "4bc88421",
   "metadata": {},
   "outputs": [
    {
     "data": {
      "text/plain": [
       "{1: 'rahul', 2: 'Rohan', 3: 'sheetal', 5: 'Anand', 23: 'ABC', 89: 'DEF'}"
      ]
     },
     "execution_count": 52,
     "metadata": {},
     "output_type": "execute_result"
    }
   ],
   "source": [
    "d.update(s)\n",
    "d"
   ]
  },
  {
   "cell_type": "code",
   "execution_count": 53,
   "id": "5be26848",
   "metadata": {},
   "outputs": [
    {
     "name": "stdout",
     "output_type": "stream",
     "text": [
      "{'name': ['Rahul', 'Rohan', 'Sita'], 'Age': [12, 25, 26]}\n"
     ]
    }
   ],
   "source": [
    "n = {'name':['Rahul', \"Rohan\", \"Sita\"], 'Age':[12,25,26]}\n",
    "print(n)"
   ]
  },
  {
   "cell_type": "code",
   "execution_count": 54,
   "id": "d2fffb5a",
   "metadata": {},
   "outputs": [
    {
     "name": "stdout",
     "output_type": "stream",
     "text": [
      "{}\n"
     ]
    }
   ],
   "source": [
    "n.clear()\n",
    "print(n)"
   ]
  },
  {
   "cell_type": "code",
   "execution_count": 55,
   "id": "a92fd70e",
   "metadata": {},
   "outputs": [
    {
     "data": {
      "text/plain": [
       "dict_keys([1, 2, 3, 5, 23, 89])"
      ]
     },
     "execution_count": 55,
     "metadata": {},
     "output_type": "execute_result"
    }
   ],
   "source": [
    "d.keys()"
   ]
  },
  {
   "cell_type": "code",
   "execution_count": 56,
   "id": "15293851",
   "metadata": {},
   "outputs": [
    {
     "data": {
      "text/plain": [
       "dict_values(['rahul', 'Rohan', 'sheetal', 'Anand', 'ABC', 'DEF'])"
      ]
     },
     "execution_count": 56,
     "metadata": {},
     "output_type": "execute_result"
    }
   ],
   "source": [
    "d.values()"
   ]
  },
  {
   "cell_type": "code",
   "execution_count": 58,
   "id": "400993f6",
   "metadata": {},
   "outputs": [
    {
     "data": {
      "text/plain": [
       "dict_items([(1, 'rahul'), (2, 'Rohan'), (3, 'sheetal'), (5, 'Anand'), (23, 'ABC'), (89, 'DEF')])"
      ]
     },
     "execution_count": 58,
     "metadata": {},
     "output_type": "execute_result"
    }
   ],
   "source": [
    "d.items()"
   ]
  },
  {
   "cell_type": "code",
   "execution_count": 60,
   "id": "8360f7e4",
   "metadata": {},
   "outputs": [
    {
     "data": {
      "text/plain": [
       "'Rohan'"
      ]
     },
     "execution_count": 60,
     "metadata": {},
     "output_type": "execute_result"
    }
   ],
   "source": [
    "d.pop(2)"
   ]
  },
  {
   "cell_type": "code",
   "execution_count": 61,
   "id": "60245ff2",
   "metadata": {},
   "outputs": [
    {
     "data": {
      "text/plain": [
       "{1: 'rahul', 3: 'sheetal', 5: 'Anand', 23: 'ABC', 89: 'DEF'}"
      ]
     },
     "execution_count": 61,
     "metadata": {},
     "output_type": "execute_result"
    }
   ],
   "source": [
    "d"
   ]
  },
  {
   "cell_type": "code",
   "execution_count": 62,
   "id": "152aff42",
   "metadata": {},
   "outputs": [
    {
     "data": {
      "text/plain": [
       "(89, 'DEF')"
      ]
     },
     "execution_count": 62,
     "metadata": {},
     "output_type": "execute_result"
    }
   ],
   "source": [
    "d.popitem()"
   ]
  },
  {
   "cell_type": "code",
   "execution_count": 63,
   "id": "83745193",
   "metadata": {},
   "outputs": [
    {
     "data": {
      "text/plain": [
       "{1: 'rahul', 3: 'sheetal', 5: 'Anand', 23: 'ABC'}"
      ]
     },
     "execution_count": 63,
     "metadata": {},
     "output_type": "execute_result"
    }
   ],
   "source": [
    "d"
   ]
  },
  {
   "cell_type": "code",
   "execution_count": 64,
   "id": "2250b65b",
   "metadata": {},
   "outputs": [],
   "source": [
    "e = d.copy()"
   ]
  },
  {
   "cell_type": "code",
   "execution_count": 65,
   "id": "26424fb9",
   "metadata": {},
   "outputs": [
    {
     "data": {
      "text/plain": [
       "{1: 'rahul', 3: 'sheetal', 5: 'Anand', 23: 'ABC'}"
      ]
     },
     "execution_count": 65,
     "metadata": {},
     "output_type": "execute_result"
    }
   ],
   "source": [
    "e"
   ]
  },
  {
   "cell_type": "code",
   "execution_count": 66,
   "id": "3d214dad",
   "metadata": {},
   "outputs": [
    {
     "data": {
      "text/plain": [
       "[0, 1, 2, 3, 4]"
      ]
     },
     "execution_count": 66,
     "metadata": {},
     "output_type": "execute_result"
    }
   ],
   "source": [
    "#### Range - We can create range of values - \\n\",\n",
    "list(range(5))"
   ]
  },
  {
   "cell_type": "code",
   "execution_count": 67,
   "id": "a436759c",
   "metadata": {},
   "outputs": [
    {
     "data": {
      "text/plain": [
       "[1, 3, 5, 7, 9, 11, 13, 15, 17, 19, 21, 23]"
      ]
     },
     "execution_count": 67,
     "metadata": {},
     "output_type": "execute_result"
    }
   ],
   "source": [
    "list(range(1,25,2))"
   ]
  },
  {
   "cell_type": "code",
   "execution_count": 68,
   "id": "7f6b9834",
   "metadata": {},
   "outputs": [
    {
     "name": "stdout",
     "output_type": "stream",
     "text": [
      "None\n"
     ]
    }
   ],
   "source": [
    "##### None nothing No values are associated\\n\",\n",
    "### if the value isw not available, then to handle such type of cases None are introduced.\\n\",\n",
    "a = None\n",
    "print(a)"
   ]
  },
  {
   "cell_type": "code",
   "execution_count": 69,
   "id": "3050f4e3",
   "metadata": {},
   "outputs": [
    {
     "name": "stdout",
     "output_type": "stream",
     "text": [
      "Rahul is a good boy, he plays very well\n",
      "Rahul is a good boy he plays very well\n"
     ]
    }
   ],
   "source": [
    "##### Escape Characters\\n\",\n",
    "### \\\\n == New Line\\n\",\n",
    "print(\"Rahul is a good boy, he plays very well\")\n",
    "#### \\\\t  == Horizontal Tab\\n\",\n",
    "print(\"Rahul is a good boy he plays very well\")"
   ]
  },
  {
   "cell_type": "code",
   "execution_count": 71,
   "id": "224151f9",
   "metadata": {},
   "outputs": [
    {
     "name": "stdout",
     "output_type": "stream",
     "text": [
      "13\n",
      "7\n",
      "30\n",
      "3.3333333333333335\n",
      "1\n",
      "3\n",
      "1000\n"
     ]
    }
   ],
   "source": [
    "### Operators in Python\\n\",\n",
    "### 1. Arithmetic Operators\\n\",\n",
    "    #### + , - , * , / , %, // , **\\n\",\n",
    "a = 10\n",
    "b = 3\n",
    "print(a+b)\n",
    "print(a-b)\n",
    "print(a*b)\n",
    "print(a/b)\n",
    "print(a%b)   ### Reminder \\n\",\n",
    "print(a//b)   ##### Floor\\n\",\n",
    "print(a**b)"
   ]
  },
  {
   "cell_type": "code",
   "execution_count": 72,
   "id": "21faa653",
   "metadata": {},
   "outputs": [],
   "source": [
    "#### In string there are 2 operator + and *"
   ]
  },
  {
   "cell_type": "code",
   "execution_count": 73,
   "id": "9ec1307b",
   "metadata": {},
   "outputs": [
    {
     "name": "stdout",
     "output_type": "stream",
     "text": [
      "False\n",
      "False\n",
      "True\n",
      "True\n"
     ]
    }
   ],
   "source": [
    "#### Relational Operators (>, >= , < ,<=)\\n\",\n",
    "a = 10\n",
    "b = 20\n",
    "print(a>b)\n",
    "print(a>=b)\n",
    "print(a<b)\n",
    "print(a<=b)"
   ]
  },
  {
   "cell_type": "code",
   "execution_count": null,
   "id": "35ac4ba7",
   "metadata": {},
   "outputs": [],
   "source": [
    "#### Bool Data TYpe\\n\",\n",
    "#### True and False"
   ]
  },
  {
   "cell_type": "code",
   "execution_count": 74,
   "id": "8e8e1821",
   "metadata": {},
   "outputs": [
    {
     "name": "stdout",
     "output_type": "stream",
     "text": [
      "2\n"
     ]
    }
   ],
   "source": [
    "#### In Python True represents as 1 and False represents as 0\\n\",\n",
    "a = True\n",
    "b = True\n",
    "print(a+b)"
   ]
  },
  {
   "cell_type": "code",
   "execution_count": 75,
   "id": "33fcc460",
   "metadata": {},
   "outputs": [
    {
     "name": "stdout",
     "output_type": "stream",
     "text": [
      "False\n"
     ]
    }
   ],
   "source": [
    "print(True > True)"
   ]
  },
  {
   "cell_type": "code",
   "execution_count": 76,
   "id": "96248d2e",
   "metadata": {},
   "outputs": [
    {
     "name": "stdout",
     "output_type": "stream",
     "text": [
      "True\n"
     ]
    }
   ],
   "source": [
    "print(True >= True)"
   ]
  },
  {
   "cell_type": "code",
   "execution_count": 77,
   "id": "9e590991",
   "metadata": {},
   "outputs": [
    {
     "name": "stdout",
     "output_type": "stream",
     "text": [
      "False\n"
     ]
    }
   ],
   "source": [
    "print(0 > True)"
   ]
  },
  {
   "cell_type": "code",
   "execution_count": 78,
   "id": "dbd225f3",
   "metadata": {},
   "outputs": [
    {
     "name": "stdout",
     "output_type": "stream",
     "text": [
      "False\n"
     ]
    }
   ],
   "source": [
    "print(True != True)"
   ]
  },
  {
   "cell_type": "code",
   "execution_count": 79,
   "id": "f15bb392",
   "metadata": {},
   "outputs": [],
   "source": [
    "#Logical operators and , or , not"
   ]
  },
  {
   "cell_type": "code",
   "execution_count": 80,
   "id": "4e0a03a5",
   "metadata": {},
   "outputs": [],
   "source": [
    "# and  =  if both arguments are True then the results are True\\n\",\n",
    "# or = if atleast one argument is True then result is True\\n\",\n",
    "# not  = complement"
   ]
  },
  {
   "cell_type": "code",
   "execution_count": 81,
   "id": "fc56cbc4",
   "metadata": {},
   "outputs": [
    {
     "data": {
      "text/plain": [
       "True"
      ]
     },
     "execution_count": 81,
     "metadata": {},
     "output_type": "execute_result"
    }
   ],
   "source": [
    "True and True"
   ]
  },
  {
   "cell_type": "code",
   "execution_count": 82,
   "id": "10187fcd",
   "metadata": {},
   "outputs": [
    {
     "data": {
      "text/plain": [
       "True"
      ]
     },
     "execution_count": 82,
     "metadata": {},
     "output_type": "execute_result"
    }
   ],
   "source": [
    "True or False"
   ]
  },
  {
   "cell_type": "code",
   "execution_count": 83,
   "id": "ef40b609",
   "metadata": {},
   "outputs": [
    {
     "data": {
      "text/plain": [
       "False"
      ]
     },
     "execution_count": 83,
     "metadata": {},
     "output_type": "execute_result"
    }
   ],
   "source": [
    "not True"
   ]
  },
  {
   "cell_type": "code",
   "execution_count": 84,
   "id": "e0e2c01e",
   "metadata": {},
   "outputs": [
    {
     "data": {
      "text/plain": [
       "20"
      ]
     },
     "execution_count": 84,
     "metadata": {},
     "output_type": "execute_result"
    }
   ],
   "source": [
    "### if the 1st argumen tis 0, then the rsult is zero other wise the result i y\\n\",\n",
    "10 and 20"
   ]
  },
  {
   "cell_type": "code",
   "execution_count": 85,
   "id": "e8c9a006",
   "metadata": {},
   "outputs": [
    {
     "data": {
      "text/plain": [
       "0"
      ]
     },
     "execution_count": 85,
     "metadata": {},
     "output_type": "execute_result"
    }
   ],
   "source": [
    "0 and 20"
   ]
  },
  {
   "cell_type": "code",
   "execution_count": 86,
   "id": "c3c578c6",
   "metadata": {},
   "outputs": [
    {
     "data": {
      "text/plain": [
       "10"
      ]
     },
     "execution_count": 86,
     "metadata": {},
     "output_type": "execute_result"
    }
   ],
   "source": [
    "#### x or y\\n\",\n",
    "### if x is true then the result is x other wise result is y\\n\",\n",
    "10 or 20"
   ]
  },
  {
   "cell_type": "code",
   "execution_count": 87,
   "id": "38cb30db",
   "metadata": {},
   "outputs": [
    {
     "data": {
      "text/plain": [
       "20"
      ]
     },
     "execution_count": 87,
     "metadata": {},
     "output_type": "execute_result"
    }
   ],
   "source": [
    "0 or 20"
   ]
  },
  {
   "cell_type": "code",
   "execution_count": 88,
   "id": "01511f74",
   "metadata": {},
   "outputs": [],
   "source": [
    "##### Modules in Python  - Modules are bascially packages which stores differnt dunctions related\\n\",\n",
    "#### to that module\\n\",\n",
    "#### import module_name\\n\",\n",
    "#### from module_name import functions\\n\",\n",
    "#### import module_name as alias"
   ]
  },
  {
   "cell_type": "code",
   "execution_count": 89,
   "id": "526fa464",
   "metadata": {},
   "outputs": [],
   "source": [
    "import math as m"
   ]
  },
  {
   "cell_type": "code",
   "execution_count": 90,
   "id": "63fe9e42",
   "metadata": {},
   "outputs": [
    {
     "data": {
      "text/plain": [
       "2.0"
      ]
     },
     "execution_count": 90,
     "metadata": {},
     "output_type": "execute_result"
    }
   ],
   "source": [
    "m.sqrt(4)"
   ]
  },
  {
   "cell_type": "code",
   "execution_count": 91,
   "id": "b6dbee45",
   "metadata": {},
   "outputs": [
    {
     "data": {
      "text/plain": [
       "3.141592653589793"
      ]
     },
     "execution_count": 91,
     "metadata": {},
     "output_type": "execute_result"
    }
   ],
   "source": [
    "m.pi"
   ]
  },
  {
   "cell_type": "code",
   "execution_count": 92,
   "id": "86321790",
   "metadata": {},
   "outputs": [],
   "source": [
    "from math import sqrt,pi"
   ]
  },
  {
   "cell_type": "code",
   "execution_count": 93,
   "id": "d8931dc7",
   "metadata": {},
   "outputs": [
    {
     "data": {
      "text/plain": [
       "4.0"
      ]
     },
     "execution_count": 93,
     "metadata": {},
     "output_type": "execute_result"
    }
   ],
   "source": [
    "sqrt(16)"
   ]
  },
  {
   "cell_type": "code",
   "execution_count": 94,
   "id": "89c45206",
   "metadata": {},
   "outputs": [
    {
     "data": {
      "text/plain": [
       "3.141592653589793"
      ]
     },
     "execution_count": 94,
     "metadata": {},
     "output_type": "execute_result"
    }
   ],
   "source": [
    "pi"
   ]
  },
  {
   "cell_type": "code",
   "execution_count": 95,
   "id": "f698962c",
   "metadata": {},
   "outputs": [],
   "source": [
    "import datetime"
   ]
  },
  {
   "cell_type": "code",
   "execution_count": 96,
   "id": "3305d054",
   "metadata": {},
   "outputs": [
    {
     "name": "stdout",
     "output_type": "stream",
     "text": [
      "1996-12-11\n",
      "<class 'datetime.date'>\n"
     ]
    }
   ],
   "source": [
    "k = datetime.date(1996,12,11)\n",
    "print(k)\n",
    "print(type(k))"
   ]
  },
  {
   "cell_type": "code",
   "execution_count": 97,
   "id": "e55a5480",
   "metadata": {},
   "outputs": [
    {
     "name": "stdout",
     "output_type": "stream",
     "text": [
      "2023-10-02\n"
     ]
    }
   ],
   "source": [
    "t = datetime.date.today()\n",
    "print(t)"
   ]
  },
  {
   "cell_type": "code",
   "execution_count": 100,
   "id": "31f01896",
   "metadata": {},
   "outputs": [
    {
     "name": "stdout",
     "output_type": "stream",
     "text": [
      "Current Year 2023\n",
      "Current Month 10\n",
      "Current Day  2\n"
     ]
    }
   ],
   "source": [
    "print(\"Current Year\",t.year)\n",
    "print(\"Current Month\",t.month)\n",
    "print(\"Current Day \",t.day)"
   ]
  },
  {
   "cell_type": "code",
   "execution_count": 104,
   "id": "db77093e",
   "metadata": {},
   "outputs": [],
   "source": [
    "from datetime import time"
   ]
  },
  {
   "cell_type": "code",
   "execution_count": 105,
   "id": "5df98b07",
   "metadata": {},
   "outputs": [
    {
     "name": "stdout",
     "output_type": "stream",
     "text": [
      "11:34:56\n"
     ]
    }
   ],
   "source": [
    "t = time(11,34,56)\n",
    "print(t)"
   ]
  },
  {
   "cell_type": "code",
   "execution_count": 107,
   "id": "bdd11744",
   "metadata": {},
   "outputs": [
    {
     "name": "stdout",
     "output_type": "stream",
     "text": [
      "Hour 11\n",
      "Minutes 34\n",
      "Seconds 56\n"
     ]
    }
   ],
   "source": [
    "print(\"Hour\", t.hour)\n",
    "print(\"Minutes\", t.minute)\n",
    "print(\"Seconds\", t.second)"
   ]
  },
  {
   "cell_type": "code",
   "execution_count": null,
   "id": "e86c8475",
   "metadata": {},
   "outputs": [],
   "source": [
    "#### Write a program taking input from user and calculate the area of a circle"
   ]
  },
  {
   "cell_type": "code",
   "execution_count": 108,
   "id": "80763d48",
   "metadata": {},
   "outputs": [
    {
     "name": "stdout",
     "output_type": "stream",
     "text": [
      "Enter the Radius5\n",
      "78.53981633974483\n"
     ]
    }
   ],
   "source": [
    "### pi r sqaure  ##### \\n\",\n",
    "radius = int(input(\"Enter the Radius\"))\n",
    "aoc = pi*(radius**2)\n",
    "print(aoc)"
   ]
  },
  {
   "cell_type": "code",
   "execution_count": null,
   "id": "85fd0444",
   "metadata": {},
   "outputs": [],
   "source": []
  }
 ],
 "metadata": {
  "kernelspec": {
   "display_name": "Python 3 (ipykernel)",
   "language": "python",
   "name": "python3"
  },
  "language_info": {
   "codemirror_mode": {
    "name": "ipython",
    "version": 3
   },
   "file_extension": ".py",
   "mimetype": "text/x-python",
   "name": "python",
   "nbconvert_exporter": "python",
   "pygments_lexer": "ipython3",
   "version": "3.11.4"
  }
 },
 "nbformat": 4,
 "nbformat_minor": 5
}
